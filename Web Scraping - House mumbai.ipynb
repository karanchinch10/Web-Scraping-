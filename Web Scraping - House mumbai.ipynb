{
 "cells": [
  {
   "cell_type": "markdown",
   "id": "813300fa",
   "metadata": {},
   "source": [
    "# Web Scraping Project"
   ]
  },
  {
   "cell_type": "markdown",
   "id": "a5d4e07d",
   "metadata": {},
   "source": [
    "### Web Scraping ?\n",
    "* Web scraping is an automatic method to obtain large amounts of data from websites. Most of this data is unstructured data in an HTML format which is then converted into structured data in a spreadsheet or a database so that it can be used in various applications."
   ]
  },
  {
   "cell_type": "markdown",
   "id": "e1c06b54",
   "metadata": {},
   "source": [
    "* Web scraping or web data extraction is data scraping used for extracting data from websites. The web scraping software may directly access the World Wide Web using the Hypertext Transfer Protocol or a web browser. While web scraping can be done manually by a software user, the term typically refers to automated processes implemented using a bot or web crawler.\n",
    "* The content of a page may be parsed, searched, reformatted, its data copied into a spreadsheet or loaded into a database. Web scrapers typically take something out of a page, to make use of it for another purpose somewhere else."
   ]
  },
  {
   "cell_type": "markdown",
   "id": "34e2994f",
   "metadata": {},
   "source": [
    "![](https://uploads-ssl.webflow.com/5fd55aec9b6ceba1eec9f9fd/61932c032e0a0173df6d2377_What%20is%20Web%20Scraping.jpg)"
   ]
  },
  {
   "cell_type": "markdown",
   "id": "9d2325c1",
   "metadata": {},
   "source": [
    "## Objective:\n",
    "\n",
    "* All Important features related to housing such as **house price, total sqft area, project, location, BHK and so on** are collected by web scraping\n",
    "* To know Price of house for differents location in mumbai city \n",
    "* All data to be scraped from website ***https://www.makaan.com*** by various techniques\n",
    "* To Perform **EDA, Data cleaning and Data Visualization on Raw data** to understand important features and their correlation to with house price "
   ]
  },
  {
   "cell_type": "markdown",
   "id": "50e0d535",
   "metadata": {},
   "source": [
    "## Import Required Libraries"
   ]
  },
  {
   "cell_type": "code",
   "execution_count": 1,
   "id": "c4e61357",
   "metadata": {},
   "outputs": [],
   "source": [
    "import requests\n",
    "from bs4 import BeautifulSoup"
   ]
  },
  {
   "cell_type": "markdown",
   "id": "e8cb1eae",
   "metadata": {},
   "source": [
    "## Define URL"
   ]
  },
  {
   "cell_type": "code",
   "execution_count": 2,
   "id": "e000db27",
   "metadata": {},
   "outputs": [],
   "source": [
    "url='https://www.makaan.com/mumbai-residential-property/buy-property-in-mumbai-city?page=2'"
   ]
  },
  {
   "cell_type": "code",
   "execution_count": 3,
   "id": "e9f17fd7",
   "metadata": {},
   "outputs": [],
   "source": [
    "#Send http request to server\n",
    "response=requests.get(url)"
   ]
  },
  {
   "cell_type": "code",
   "execution_count": 4,
   "id": "b6a6d367",
   "metadata": {},
   "outputs": [
    {
     "data": {
      "text/plain": [
       "200"
      ]
     },
     "execution_count": 4,
     "metadata": {},
     "output_type": "execute_result"
    }
   ],
   "source": [
    "#check the status of the request \n",
    "response.status_code"
   ]
  },
  {
   "cell_type": "markdown",
   "id": "52bdaafb",
   "metadata": {},
   "source": [
    "* **Conclusion:**\n",
    "* since Status Code is **200** means request was successfully accepted"
   ]
  },
  {
   "cell_type": "markdown",
   "id": "ffc3845c",
   "metadata": {},
   "source": [
    "## Parse the downloaded data using BeautifulSoup"
   ]
  },
  {
   "cell_type": "code",
   "execution_count": 5,
   "id": "9ad02444",
   "metadata": {
    "scrolled": true
   },
   "outputs": [],
   "source": [
    "#create variable soup to store html files\n",
    "soup = BeautifulSoup(response.text,'html.parser')\n",
    "#print(soup.prettify())"
   ]
  },
  {
   "cell_type": "code",
   "execution_count": 6,
   "id": "63faccb0",
   "metadata": {
    "scrolled": true
   },
   "outputs": [
    {
     "name": "stdout",
     "output_type": "stream",
     "text": [
      "3\n"
     ]
    }
   ],
   "source": [
    "## check length of parse Data\n",
    "print(len(soup))"
   ]
  },
  {
   "cell_type": "markdown",
   "id": "a3328466",
   "metadata": {},
   "source": [
    "## Extracting the necessary data from the parsed data\n",
    "* No of BHK\n",
    "* Project By\n",
    "* Price of House\n",
    "* Total area OF House\n",
    "* Location\n",
    "* City\n",
    "* House img"
   ]
  },
  {
   "cell_type": "markdown",
   "id": "24414b94",
   "metadata": {},
   "source": [
    "### A. Extract only data of 1st block or index of 1st page "
   ]
  },
  {
   "cell_type": "code",
   "execution_count": 7,
   "id": "87612dde",
   "metadata": {
    "scrolled": true
   },
   "outputs": [],
   "source": [
    "#To get all data of 1st block or index of 1st page OR 1ST RECORD \n",
    "main_class='infoWrap'\n",
    "data=soup.find('div',{'class':main_class})"
   ]
  },
  {
   "cell_type": "code",
   "execution_count": 8,
   "id": "8100d8b9",
   "metadata": {
    "scrolled": false
   },
   "outputs": [
    {
     "name": "stdout",
     "output_type": "stream",
     "text": [
      "<div class=\"infoWrap\" itemprop=\"event\" itemref=\"itemImageFor-19237160\" itemscope=\"\" itemtype=\"http://schema.org/Event\"><div class=\"title-line-wrap\"><div class=\"title-line\"><a class=\"typelink\" data-type=\"listing-link\" href=\"https://www.makaan.com/mumbai/shree-krishna-groups-sangam-in-chembur-19237160/3bhk-984-sqft-apartment\" itemprop=\"url\" target=\"_blank\"><meta content=\"3 BHK Apartment for sale\" id=\"itemNameFor-19237160\" itemprop=\"name\"/><strong><span class=\"val\">3 </span><span>BHK </span><span>Apartment</span></strong></a><span class=\"project-wrap\"> in <strong><a class=\"projName\" data-link-name=\"SHREE KRISHNA Sangam\" data-link-type=\"project overview\" data-track-label=\"19237160_1_3146965_select\" data-type=\"projName\" href=\"https://www.makaan.com/mumbai/shree-krishna-groups-sangam-in-chembur-3146965\" target=\"_blank\" title=\"Go to SHREE KRISHNA Sangam\"><span>SHREE KRISHNA Sangam</span></a></strong></span><div class=\"rera-tag-new\" title=\"Rera Approved Project\"><img alt=\"Rera Approved Project\" src=\"//static.makaan.com/images/un-versioned/rera-tag.svg\"/></div></div><div style=\"width:100%\"><div class=\"locWrap\" itemprop=\"location\" itemscope=\"\" itemtype=\"http://schema.org/Place\" style=\"width:60%;float:left\"><span><span itemprop=\"address\" itemscope=\"\" itemtype=\"http://schema.org/PostalAddress\" title=\"Buy property in Chembur Mumbai\"><span class=\"locName\"><a class=\"loclink\" data-link-name=\"Chembur Mumbai\" data-link-type=\"locality buy serp\" data-type=\"localityName\" href=\"https://www.makaan.com/mumbai-property/chembur-flats-for-sale-50033\" itemprop=\"url\" target=\"_blank\"><span itemprop=\"addressLocality\"><strong>Chembur</strong></span>, <span class=\"cityName\" itemprop=\"addressRegion\">Mumbai</span></a></span></span></span></div></div></div><table class=\"listing-highlights\"><thead><tr><td colspan=\"2\">Specifications</td></tr></thead><tbody><tr class=\"chevron-wrap\" title=\"see this property details\"><td colspan=\"2\"><i class=\"icon-link\"></i></td></tr><tr class=\"hcol\"><td class=\"price\"><div data-type=\"price-link\"><sup class=\"rupee currency\"> </sup><span class=\"val\" itemprop=\"offers\" itemscope=\"\" itemtype=\"http://schema.org/Offer\"><meta content=\"https://www.makaan.com/mumbai/shree-krishna-groups-sangam-in-chembur-19237160/3bhk-984-sqft-apartment\" itemprop=\"url\"/><meta content=\"30504000 \" itemprop=\"price\"/><meta content=\"INR\" itemprop=\"priceCurrency\"/>3.05</span><span class=\"unit\"> Cr</span></div></td><td class=\"lbl rate\">31,000 / sq ft</td></tr><tr class=\"hcol\"><td class=\"size\"><span class=\"val\">984 </span></td><td class=\"lbl\">Area in sq ft</td></tr><tr class=\"hcol w44\"><td class=\"val\">Under Construction</td><td class=\"lbl\">Construction Status</td></tr></tbody></table><meta content=\"2022-07-07T19:15:39.000Z\" itemprop=\"startDate\"/><ul class=\"listing-details\"><li class=\"keypoint\" title=\"Possession by\"><span><strong><span>Possession by Apr 2024</span></strong></span></li><li class=\"keypoint\"><span>New </span></li></ul><div class=\"listing-description\" data-p9ignore=\"true\"><div class=\"txt\"><h3 class=\"seo-hdng\" title=\"3 BHK Property for Sale in Chembur Mumbai\"><span>3 BHK Property for Sale in Chembur Mumbai</span>:</h3>Itâs a 3 bhk multistorey apartment situated in SHREE KRISHNA GROUPS Sangam, Chembur, Mumbai. It has an area of 984 sqft . The property is available at a price of Rs. 3.05 cr . It is an unfurnished pro...<strong class=\"seo-hdng\">Developed by <a href=\"https://www.makaan.com/shree-krishna-groups-100140596-bhbyl\">SHREE KRISHNA GROUPS</a></strong></div><a class=\"linktoprop\" data-type=\"read-more\">More</a></div><div class=\"btn-wrap\"><div class=\"btn-icons\"><span class=\"favbtn serpfavd\" data-id=\"19237160\" data-lazymodule=\"shortlist\" data-type=\"fav-btn\" id=\"shortlist-19237160\" title=\"shortlist this property\"><script type=\"text/x-config\">{\"listingId\":19237160,\"dataAwaited\": true}</script><i class=\"icon-makaan\"></i><i class=\"icon-makaanfill\"></i></span><span class=\"serpShare shareitem\" data-type=\"social-share\" data-url=\"https://www.makaan.com/mumbai/shree-krishna-groups-sangam-in-chembur-19237160/3bhk-984-sqft-apartment\" title=\"share\"><i class=\"icon-share\"></i></span></div><div class=\"callwrap\"><a class=\"txtbtn\" data-call-now=\"\" data-step=\"VIEW_PHONE_MORPHED\" data-type=\"openLeadFormViewPhone\">View Phone</a><a class=\"cbtn cbtn-p\" data-call-now=\"\" data-type=\"openLeadForm\"> Connect Now</a></div></div></div>\n"
     ]
    }
   ],
   "source": [
    "#print html data \n",
    "print(data)\n",
    "#print(data.prettify())"
   ]
  },
  {
   "cell_type": "code",
   "execution_count": 9,
   "id": "0c96f10a",
   "metadata": {},
   "outputs": [
    {
     "name": "stdout",
     "output_type": "stream",
     "text": [
      "6\n"
     ]
    }
   ],
   "source": [
    "#length of data\n",
    "print(len(data))"
   ]
  },
  {
   "cell_type": "code",
   "execution_count": 10,
   "id": "b501b3cd",
   "metadata": {},
   "outputs": [
    {
     "name": "stdout",
     "output_type": "stream",
     "text": [
      "3 BHK Apartment in SHREE KRISHNA SangamChembur, Mumbai\n"
     ]
    }
   ],
   "source": [
    "#Area of house(BHK) and project_BY \n",
    "class_='title-line-wrap'\n",
    "print(data.find('div',{'class':class_}).text)"
   ]
  },
  {
   "cell_type": "code",
   "execution_count": 11,
   "id": "def598de",
   "metadata": {},
   "outputs": [
    {
     "name": "stdout",
     "output_type": "stream",
     "text": [
      "3 BHK Apartment\n",
      "SHREE KRISHNA SangamChembur\n"
     ]
    }
   ],
   "source": [
    "# Exract info of BHK and Project_by\n",
    "class_1='title-line-wrap'\n",
    "BHK=data.find('div',{'class':class_1}).text.split(',')[0].split(' in ')[0]\n",
    "Project=data.find('div',{'class':class_1}).text.split(',')[0].split(' in ')[1]\n",
    "\n",
    "print(BHK)\n",
    "print(Project)"
   ]
  },
  {
   "cell_type": "code",
   "execution_count": 12,
   "id": "fa02ba01",
   "metadata": {},
   "outputs": [
    {
     "name": "stdout",
     "output_type": "stream",
     "text": [
      " 3.05 Cr\n"
     ]
    }
   ],
   "source": [
    "#Exract Price of house from price class\n",
    "price_class='price'\n",
    "price=data.find('td',{'class':price_class}).text\n",
    "print(price)"
   ]
  },
  {
   "cell_type": "code",
   "execution_count": 13,
   "id": "9c489419",
   "metadata": {},
   "outputs": [
    {
     "name": "stdout",
     "output_type": "stream",
     "text": [
      "31,000 / sq ft\n"
     ]
    }
   ],
   "source": [
    "#Price of house per sq feet area  (price/sq feet)\n",
    "price_sqft=data.find('td',{'class':'lbl rate'}).text\n",
    "print(price_sqft)"
   ]
  },
  {
   "cell_type": "code",
   "execution_count": 14,
   "id": "bb19c5f6",
   "metadata": {},
   "outputs": [
    {
     "name": "stdout",
     "output_type": "stream",
     "text": [
      "984 \n"
     ]
    }
   ],
   "source": [
    "#Total sq feet area of house OR CARPET AREA \n",
    "class_total_area='size'\n",
    "total_area_house=data.find('td',{'class':class_total_area}).text\n",
    "print(total_area_house)"
   ]
  },
  {
   "cell_type": "code",
   "execution_count": 15,
   "id": "fd96e45a",
   "metadata": {},
   "outputs": [
    {
     "name": "stdout",
     "output_type": "stream",
     "text": [
      "Chembur, Mumbai\n",
      "Chembur\n",
      "Mumbai\n"
     ]
    }
   ],
   "source": [
    "#Location and city\n",
    "print(data.find('a',{'class':'loclink'}).text)\n",
    "\n",
    "#location\n",
    "location=data.find('a',{'class':'loclink'}).text.split(',')[0].strip()\n",
    "city=data.find('a',{'class':'loclink'}).text.split(',')[1].strip()\n",
    "\n",
    "print(location)\n",
    "print(city)"
   ]
  },
  {
   "cell_type": "code",
   "execution_count": 16,
   "id": "3c30267f",
   "metadata": {},
   "outputs": [
    {
     "name": "stdout",
     "output_type": "stream",
     "text": [
      "https://static.makaan.com/1/3146965/291/sangam-landscape-garden-and-tree-planting-128722923.jpeg?width=460&height=260\n"
     ]
    }
   ],
   "source": [
    "#get images of house\n",
    "img_class='imgWrap'\n",
    "img_house=soup.find('div',{'class':img_class})\n",
    "img_link=img_house.find('img').get('data-src')\n",
    "print(img_link)"
   ]
  },
  {
   "cell_type": "markdown",
   "id": "c2d8896c",
   "metadata": {},
   "source": [
    "### B. To Extract Data of All Blocks from 1st Page "
   ]
  },
  {
   "cell_type": "code",
   "execution_count": 17,
   "id": "7de57f49",
   "metadata": {},
   "outputs": [],
   "source": [
    "#get all data of 1st page\n",
    "main_class='infoWrap'\n",
    "data=soup.find_all('div',{'class':main_class})"
   ]
  },
  {
   "cell_type": "code",
   "execution_count": 18,
   "id": "baf0ea05",
   "metadata": {
    "scrolled": true
   },
   "outputs": [
    {
     "name": "stdout",
     "output_type": "stream",
     "text": [
      "20\n"
     ]
    }
   ],
   "source": [
    "# Total No of blocks in single page\n",
    "print(len(data))"
   ]
  },
  {
   "cell_type": "markdown",
   "id": "490df528",
   "metadata": {},
   "source": [
    "* **Conclusion:**\n",
    "* There are Total **20 records or blocks** in single page"
   ]
  },
  {
   "cell_type": "code",
   "execution_count": 19,
   "id": "0bf8c901",
   "metadata": {},
   "outputs": [
    {
     "name": "stdout",
     "output_type": "stream",
     "text": [
      "BHK - 1 BHK Apartment\n",
      "Project_By - A Plus Golden VanVangani\n",
      "Price of house - 10.75 L\n",
      "Total area - 417 \n",
      "Location - Vangani\n",
      "city - Mumbai\n",
      "img link of house - https://static.makaan.com/1/1936709/291/golden-van-swimming-pool-131986548.jpeg?width=460&height=260\n"
     ]
    }
   ],
   "source": [
    "# Get all information of 12th block of 1st page\n",
    "BHK=data[11].find('div',{'class':class_1}).text.split(',')[0].split(' in ')[0]\n",
    "Project=data[11].find('div',{'class':class_1}).text.split(',')[0].split(' in ')[1]\n",
    "price=data[11].find('td',{'class':price_class}).text.strip()\n",
    "total_area_house=data[11].find('td',{'class':class_total_area}).text\n",
    "location=data[11].find('a',{'class':'loclink'}).text.split(',')[0].strip()\n",
    "city=data[11].find('a',{'class':'loclink'}).text.split(',')[1].strip()\n",
    "img_house=soup.find_all('div',{'class':img_class})\n",
    "img_link=img_house[11].find('img').get('data-src')\n",
    "\n",
    "\n",
    "print(\"BHK -\",BHK)\n",
    "print(\"Project_By -\",Project)\n",
    "print(\"Price of house -\",price)\n",
    "print(\"Total area -\",total_area_house)\n",
    "print(\"Location -\",location)\n",
    "print(\"city -\",city)\n",
    "print(\"img link of house -\",img_link)"
   ]
  },
  {
   "cell_type": "markdown",
   "id": "5d1f05ab",
   "metadata": {},
   "source": [
    "### C. To Extract All data from Multiple Pages  "
   ]
  },
  {
   "cell_type": "code",
   "execution_count": 20,
   "id": "8501d119",
   "metadata": {},
   "outputs": [],
   "source": [
    "# base url for all pages\n",
    "base='https://www.makaan.com/mumbai-residential-property/buy-property-in-mumbai-city?page='"
   ]
  },
  {
   "cell_type": "markdown",
   "id": "c57d0501",
   "metadata": {},
   "source": [
    "* **Conclusion:**\n",
    "* Common part URL for all page "
   ]
  },
  {
   "cell_type": "code",
   "execution_count": 21,
   "id": "becbb1c6",
   "metadata": {},
   "outputs": [],
   "source": [
    "#list to store all Page No\n",
    "list_page_no=list(range(2,201))"
   ]
  },
  {
   "cell_type": "code",
   "execution_count": 22,
   "id": "e96db368",
   "metadata": {},
   "outputs": [
    {
     "name": "stdout",
     "output_type": "stream",
     "text": [
      "[2, 3, 4, 5, 6, 7, 8, 9, 10, 11, 12, 13, 14, 15, 16, 17, 18, 19, 20, 21, 22, 23, 24, 25, 26, 27, 28, 29, 30, 31, 32, 33, 34, 35, 36, 37, 38, 39, 40, 41, 42, 43, 44, 45, 46, 47, 48, 49, 50, 51, 52, 53, 54, 55, 56, 57, 58, 59, 60, 61, 62, 63, 64, 65, 66, 67, 68, 69, 70, 71, 72, 73, 74, 75, 76, 77, 78, 79, 80, 81, 82, 83, 84, 85, 86, 87, 88, 89, 90, 91, 92, 93, 94, 95, 96, 97, 98, 99, 100, 101, 102, 103, 104, 105, 106, 107, 108, 109, 110, 111, 112, 113, 114, 115, 116, 117, 118, 119, 120, 121, 122, 123, 124, 125, 126, 127, 128, 129, 130, 131, 132, 133, 134, 135, 136, 137, 138, 139, 140, 141, 142, 143, 144, 145, 146, 147, 148, 149, 150, 151, 152, 153, 154, 155, 156, 157, 158, 159, 160, 161, 162, 163, 164, 165, 166, 167, 168, 169, 170, 171, 172, 173, 174, 175, 176, 177, 178, 179, 180, 181, 182, 183, 184, 185, 186, 187, 188, 189, 190, 191, 192, 193, 194, 195, 196, 197, 198, 199, 200]\n"
     ]
    }
   ],
   "source": [
    "#Total no pages\n",
    "print(list_page_no)"
   ]
  },
  {
   "cell_type": "code",
   "execution_count": 23,
   "id": "5e6826f7",
   "metadata": {},
   "outputs": [],
   "source": [
    "#create list to store all URL of multiple pages\n",
    "url_list=[]\n",
    "\n",
    "#concate page no to base url\n",
    "for i in list_page_no:\n",
    "    url=str(base+str(i))\n",
    "    url_list.append(url)"
   ]
  },
  {
   "cell_type": "code",
   "execution_count": 24,
   "id": "bef37806",
   "metadata": {},
   "outputs": [
    {
     "name": "stdout",
     "output_type": "stream",
     "text": [
      "['https://www.makaan.com/mumbai-residential-property/buy-property-in-mumbai-city?page=2', 'https://www.makaan.com/mumbai-residential-property/buy-property-in-mumbai-city?page=3', 'https://www.makaan.com/mumbai-residential-property/buy-property-in-mumbai-city?page=4', 'https://www.makaan.com/mumbai-residential-property/buy-property-in-mumbai-city?page=5', 'https://www.makaan.com/mumbai-residential-property/buy-property-in-mumbai-city?page=6']\n"
     ]
    }
   ],
   "source": [
    "#URL list\n",
    "print(url_list[:5])"
   ]
  },
  {
   "cell_type": "code",
   "execution_count": 25,
   "id": "4cabd147",
   "metadata": {},
   "outputs": [
    {
     "name": "stdout",
     "output_type": "stream",
     "text": [
      "page scraped 0  page scraped 1  page scraped 2  page scraped 3  page scraped 4  page scraped 5  page scraped 6  page scraped 7  page scraped 8  page scraped 9  page scraped 10  page scraped 11  page scraped 12  page scraped 13  page scraped 14  page scraped 15  page scraped 16  page scraped 17  page scraped 18  page scraped 19  page scraped 20  page scraped 21  page scraped 22  page scraped 23  page scraped 24  page scraped 25  page scraped 26  page scraped 27  page scraped 28  page scraped 29  page scraped 30  page scraped 31  page scraped 32  page scraped 33  page scraped 34  page scraped 35  page scraped 36  page scraped 37  page scraped 38  page scraped 39  page scraped 40  page scraped 41  page scraped 42  page scraped 43  page scraped 44  page scraped 45  page scraped 46  page scraped 47  page scraped 48  page scraped 49  page scraped 50  page scraped 51  page scraped 52  page scraped 53  page scraped 54  page scraped 55  page scraped 56  page scraped 57  page scraped 58  page scraped 59  page scraped 60  page scraped 61  page scraped 62  page scraped 63  page scraped 64  page scraped 65  page scraped 66  page scraped 67  page scraped 68  page scraped 69  page scraped 70  page scraped 71  page scraped 72  page scraped 73  page scraped 74  page scraped 75  page scraped 76  page scraped 77  page scraped 78  page scraped 79  page scraped 80  page scraped 81  page scraped 82  page scraped 83  page scraped 84  page scraped 85  page scraped 86  page scraped 87  page scraped 88  page scraped 89  page scraped 90  page scraped 91  page scraped 92  page scraped 93  page scraped 94  page scraped 95  page scraped 96  page scraped 97  page scraped 98  page scraped 99  page scraped 100  page scraped 101  page scraped 102  page scraped 103  page scraped 104  page scraped 105  page scraped 106  page scraped 107  page scraped 108  page scraped 109  page scraped 110  page scraped 111  page scraped 112  page scraped 113  page scraped 114  page scraped 115  page scraped 116  page scraped 117  page scraped 118  page scraped 119  page scraped 120  page scraped 121  page scraped 122  page scraped 123  page scraped 124  page scraped 125  page scraped 126  page scraped 127  page scraped 128  page scraped 129  page scraped 130  page scraped 131  page scraped 132  page scraped 133  page scraped 134  page scraped 135  page scraped 136  page scraped 137  page scraped 138  page scraped 139  page scraped 140  page scraped 141  page scraped 142  page scraped 143  page scraped 144  page scraped 145  page scraped 146  page scraped 147  page scraped 148  page scraped 149  page scraped 150  page scraped 151  page scraped 152  page scraped 153  page scraped 154  page scraped 155  page scraped 156  page scraped 157  page scraped 158  page scraped 159  page scraped 160  page scraped 161  page scraped 162  page scraped 163  page scraped 164  page scraped 165  page scraped 166  page scraped 167  page scraped 168  page scraped 169  page scraped 170  page scraped 171  page scraped 172  page scraped 173  page scraped 174  page scraped 175  page scraped 176  page scraped 177  page scraped 178  page scraped 179  page scraped 180  page scraped 181  page scraped 182  page scraped 183  page scraped 184  page scraped 185  page scraped 186  page scraped 187  page scraped 188  page scraped 189  page scraped 190  page scraped 191  page scraped 192  page scraped 193  page scraped 194  page scraped 195  page scraped 196  page scraped 197  page scraped 198  "
     ]
    }
   ],
   "source": [
    "#create list for each feature\n",
    "bhk_list=[]\n",
    "project_list=[]\n",
    "price_list=[]\n",
    "price_sqf_list=[]\n",
    "total_sqf_list=[]\n",
    "city_list=[]\n",
    "location_list=[]\n",
    "\n",
    "l=url_list[:201]\n",
    "\n",
    "for indx,url in enumerate(l):\n",
    "    response=requests.get(url)\n",
    "    res=response.status_code\n",
    "    print(\"page scraped\",indx, end=\"  \")\n",
    "    soup = BeautifulSoup(response.text,'html.parser')\n",
    "    page_data = soup.find_all('div',{'class':'infoWrap'})\n",
    "    \n",
    "    for i in page_data:\n",
    "        #BHK and project\n",
    "        lst=i.find('div',{'class':'title-line-wrap'}).text.split(',')[0]\n",
    "        if ' in ' in lst:\n",
    "            lst1=lst.split(' in ')\n",
    "            bhk=lst1[0]\n",
    "            project=lst1[1]       \n",
    "            bhk_list.append(bhk)\n",
    "            project_list.append(project)\n",
    "        else:\n",
    "            bhk=lst[0]\n",
    "            project=\"NA\"\n",
    "            bhk_list.append(bhk)\n",
    "            project_list.append(project)\n",
    "        \n",
    "        #Price\n",
    "        price=i.find('td',{'class':'price'}).text.strip()\n",
    "        price_list.append(price)\n",
    "        \n",
    "        #Price / sq feet area for house\n",
    "        psqf=i.find('td',{'class':'lbl rate'}).text.strip().split('/')\n",
    "        psqf1=list(psqf)[0].strip()\n",
    "        price_sqf_list.append(psqf1)\n",
    "        \n",
    "        #Total sft area \n",
    "        total_sft_area=i.find('td',{'class':'size'}).text.strip()\n",
    "        total_sqf_list.append(total_sft_area)\n",
    "        \n",
    "        #city and location\n",
    "        area=i.find('a',{'class':'loclink'}).text.split(',')\n",
    "        l1=list(area)\n",
    "        #Location\n",
    "        location=l1[0].strip()\n",
    "        #city\n",
    "        city=l1[1].strip()\n",
    "        city_list.append(city)\n",
    "        location_list.append(location)"
   ]
  },
  {
   "cell_type": "markdown",
   "id": "16b4ee43",
   "metadata": {},
   "source": [
    "### conclusion\n",
    "* Scraped **250 pages** scuccessfully"
   ]
  },
  {
   "cell_type": "code",
   "execution_count": 26,
   "id": "f17dbfcc",
   "metadata": {},
   "outputs": [
    {
     "name": "stdout",
     "output_type": "stream",
     "text": [
      "3980\n",
      "3980\n",
      "3980\n",
      "3980\n",
      "3980\n",
      "3980\n",
      "3980\n"
     ]
    }
   ],
   "source": [
    "# To know total No of records\n",
    "print(len(bhk_list))\n",
    "print(len(price_list))\n",
    "print(len(project_list))\n",
    "print(len(price_sqf_list))\n",
    "print(len(total_sqf_list))\n",
    "print(len(location_list))\n",
    "print(len(city_list))"
   ]
  },
  {
   "cell_type": "code",
   "execution_count": 27,
   "id": "2e8c4385",
   "metadata": {},
   "outputs": [],
   "source": [
    "#import library\n",
    "import pandas as pd\n",
    "import numpy as np"
   ]
  },
  {
   "cell_type": "code",
   "execution_count": 28,
   "id": "f3ba145e",
   "metadata": {},
   "outputs": [],
   "source": [
    "#create dict\n",
    "dict = { 'BHK':bhk_list,'project':project_list,'Location':location_list,'City':city_list,\n",
    "        'Total sqft':total_sqf_list,'price_sqft':price_sqf_list,'price':price_list}"
   ]
  },
  {
   "cell_type": "markdown",
   "id": "e0b42ea2",
   "metadata": {},
   "source": [
    "* Create Dataframe to store All Information \n",
    "* Here not storing images link to dataframe"
   ]
  },
  {
   "cell_type": "code",
   "execution_count": 29,
   "id": "a9853c1a",
   "metadata": {},
   "outputs": [],
   "source": [
    "#create dataframe which holds all information\n",
    "df=pd.DataFrame(dict)"
   ]
  },
  {
   "cell_type": "code",
   "execution_count": 30,
   "id": "0baa1514",
   "metadata": {},
   "outputs": [
    {
     "data": {
      "text/plain": [
       "(3980, 7)"
      ]
     },
     "execution_count": 30,
     "metadata": {},
     "output_type": "execute_result"
    }
   ],
   "source": [
    "#shape of dataframe\n",
    "df.shape"
   ]
  },
  {
   "cell_type": "code",
   "execution_count": 31,
   "id": "cd58cc45",
   "metadata": {},
   "outputs": [
    {
     "data": {
      "text/html": [
       "<div>\n",
       "<style scoped>\n",
       "    .dataframe tbody tr th:only-of-type {\n",
       "        vertical-align: middle;\n",
       "    }\n",
       "\n",
       "    .dataframe tbody tr th {\n",
       "        vertical-align: top;\n",
       "    }\n",
       "\n",
       "    .dataframe thead th {\n",
       "        text-align: right;\n",
       "    }\n",
       "</style>\n",
       "<table border=\"1\" class=\"dataframe\">\n",
       "  <thead>\n",
       "    <tr style=\"text-align: right;\">\n",
       "      <th></th>\n",
       "      <th>BHK</th>\n",
       "      <th>project</th>\n",
       "      <th>Location</th>\n",
       "      <th>City</th>\n",
       "      <th>Total sqft</th>\n",
       "      <th>price_sqft</th>\n",
       "      <th>price</th>\n",
       "    </tr>\n",
       "  </thead>\n",
       "  <tbody>\n",
       "    <tr>\n",
       "      <th>0</th>\n",
       "      <td>3 BHK Apartment</td>\n",
       "      <td>SHREE KRISHNA SangamChembur</td>\n",
       "      <td>Chembur</td>\n",
       "      <td>Mumbai</td>\n",
       "      <td>984</td>\n",
       "      <td>31,000</td>\n",
       "      <td>3.05 Cr</td>\n",
       "    </tr>\n",
       "    <tr>\n",
       "      <th>1</th>\n",
       "      <td>2 BHK Apartment</td>\n",
       "      <td>Ekdanta 24 KaratKurla</td>\n",
       "      <td>Kurla</td>\n",
       "      <td>Mumbai</td>\n",
       "      <td>598</td>\n",
       "      <td>23,913</td>\n",
       "      <td>1.42 Cr</td>\n",
       "    </tr>\n",
       "    <tr>\n",
       "      <th>2</th>\n",
       "      <td>2 BHK Apartment</td>\n",
       "      <td>Liberty Bay VueMalad West</td>\n",
       "      <td>Malad West</td>\n",
       "      <td>Mumbai</td>\n",
       "      <td>738</td>\n",
       "      <td>21,000</td>\n",
       "      <td>1.54 Cr</td>\n",
       "    </tr>\n",
       "    <tr>\n",
       "      <th>3</th>\n",
       "      <td>3 BHK Apartment</td>\n",
       "      <td>Thalia Vrindavan FloraRasayani</td>\n",
       "      <td>Rasayani</td>\n",
       "      <td>Mumbai</td>\n",
       "      <td>644</td>\n",
       "      <td>10,676</td>\n",
       "      <td>68.75 L</td>\n",
       "    </tr>\n",
       "    <tr>\n",
       "      <th>4</th>\n",
       "      <td>2 BHK Apartment</td>\n",
       "      <td>Mayfair The ViewVikhroli</td>\n",
       "      <td>Vikhroli</td>\n",
       "      <td>Mumbai</td>\n",
       "      <td>582</td>\n",
       "      <td>24,914</td>\n",
       "      <td>1.45 Cr</td>\n",
       "    </tr>\n",
       "    <tr>\n",
       "      <th>5</th>\n",
       "      <td>2 BHK Apartment</td>\n",
       "      <td>Puraniks City Sector 1Neral</td>\n",
       "      <td>Neral</td>\n",
       "      <td>Mumbai</td>\n",
       "      <td>427</td>\n",
       "      <td>5,756</td>\n",
       "      <td>24.58 L</td>\n",
       "    </tr>\n",
       "    <tr>\n",
       "      <th>6</th>\n",
       "      <td>3 BHK Apartment</td>\n",
       "      <td>Jewel CrestMahim</td>\n",
       "      <td>Mahim</td>\n",
       "      <td>Mumbai</td>\n",
       "      <td>1130</td>\n",
       "      <td>42,477</td>\n",
       "      <td>4.8 Cr</td>\n",
       "    </tr>\n",
       "    <tr>\n",
       "      <th>7</th>\n",
       "      <td>2 BHK Apartment</td>\n",
       "      <td>Aplite Greenstone HeritageFort</td>\n",
       "      <td>Fort</td>\n",
       "      <td>Mumbai</td>\n",
       "      <td>671</td>\n",
       "      <td>40,536</td>\n",
       "      <td>2.72 Cr</td>\n",
       "    </tr>\n",
       "    <tr>\n",
       "      <th>8</th>\n",
       "      <td>3 BHK Apartment</td>\n",
       "      <td>Mahaavir PrideDombivali</td>\n",
       "      <td>Dombivali</td>\n",
       "      <td>Mumbai</td>\n",
       "      <td>917</td>\n",
       "      <td>10,359</td>\n",
       "      <td>95 L</td>\n",
       "    </tr>\n",
       "    <tr>\n",
       "      <th>9</th>\n",
       "      <td>1 BHK Independent House</td>\n",
       "      <td>VBHC 47 Rowland ParkPalghar</td>\n",
       "      <td>Palghar</td>\n",
       "      <td>Mumbai</td>\n",
       "      <td>701</td>\n",
       "      <td>3,894</td>\n",
       "      <td>27.3 L</td>\n",
       "    </tr>\n",
       "  </tbody>\n",
       "</table>\n",
       "</div>"
      ],
      "text/plain": [
       "                       BHK                         project    Location  \\\n",
       "0          3 BHK Apartment     SHREE KRISHNA SangamChembur     Chembur   \n",
       "1          2 BHK Apartment           Ekdanta 24 KaratKurla       Kurla   \n",
       "2          2 BHK Apartment       Liberty Bay VueMalad West  Malad West   \n",
       "3          3 BHK Apartment  Thalia Vrindavan FloraRasayani    Rasayani   \n",
       "4          2 BHK Apartment        Mayfair The ViewVikhroli    Vikhroli   \n",
       "5          2 BHK Apartment     Puraniks City Sector 1Neral       Neral   \n",
       "6          3 BHK Apartment                Jewel CrestMahim       Mahim   \n",
       "7          2 BHK Apartment  Aplite Greenstone HeritageFort        Fort   \n",
       "8          3 BHK Apartment         Mahaavir PrideDombivali   Dombivali   \n",
       "9  1 BHK Independent House     VBHC 47 Rowland ParkPalghar     Palghar   \n",
       "\n",
       "     City Total sqft price_sqft    price  \n",
       "0  Mumbai        984     31,000  3.05 Cr  \n",
       "1  Mumbai        598     23,913  1.42 Cr  \n",
       "2  Mumbai        738     21,000  1.54 Cr  \n",
       "3  Mumbai        644     10,676  68.75 L  \n",
       "4  Mumbai        582     24,914  1.45 Cr  \n",
       "5  Mumbai        427      5,756  24.58 L  \n",
       "6  Mumbai       1130     42,477   4.8 Cr  \n",
       "7  Mumbai        671     40,536  2.72 Cr  \n",
       "8  Mumbai        917     10,359     95 L  \n",
       "9  Mumbai        701      3,894   27.3 L  "
      ]
     },
     "execution_count": 31,
     "metadata": {},
     "output_type": "execute_result"
    }
   ],
   "source": [
    "#Top 10 records\n",
    "df.head(10)"
   ]
  },
  {
   "cell_type": "code",
   "execution_count": 32,
   "id": "0b590da4",
   "metadata": {},
   "outputs": [
    {
     "data": {
      "text/plain": [
       "(3980, 7)"
      ]
     },
     "execution_count": 32,
     "metadata": {},
     "output_type": "execute_result"
    }
   ],
   "source": [
    "#Shape of Dataframe\n",
    "df.shape"
   ]
  },
  {
   "cell_type": "code",
   "execution_count": 33,
   "id": "b0dae4dd",
   "metadata": {},
   "outputs": [
    {
     "data": {
      "text/plain": [
       "968"
      ]
     },
     "execution_count": 33,
     "metadata": {},
     "output_type": "execute_result"
    }
   ],
   "source": [
    "#total unique location\n",
    "len(df['project'].unique())"
   ]
  },
  {
   "cell_type": "code",
   "execution_count": 34,
   "id": "9045f3e5",
   "metadata": {},
   "outputs": [],
   "source": [
    "#save csv file\n",
    "df.to_csv('house_price_mumbai.csv',index=False)"
   ]
  },
  {
   "cell_type": "code",
   "execution_count": 35,
   "id": "1676776c",
   "metadata": {},
   "outputs": [
    {
     "data": {
      "text/plain": [
       "(2875, 7)"
      ]
     },
     "execution_count": 35,
     "metadata": {},
     "output_type": "execute_result"
    }
   ],
   "source": [
    "df1=df.drop_duplicates()\n",
    "df1.shape"
   ]
  },
  {
   "cell_type": "code",
   "execution_count": 36,
   "id": "a9b5132e",
   "metadata": {
    "scrolled": true
   },
   "outputs": [
    {
     "data": {
      "text/plain": [
       "174"
      ]
     },
     "execution_count": 36,
     "metadata": {},
     "output_type": "execute_result"
    }
   ],
   "source": [
    "len(df['Location'].unique())"
   ]
  },
  {
   "cell_type": "code",
   "execution_count": 37,
   "id": "910bc1cf",
   "metadata": {},
   "outputs": [
    {
     "data": {
      "text/plain": [
       "array(['Chembur', 'Kurla', 'Malad West', 'Rasayani', 'Vikhroli', 'Neral',\n",
       "       'Mahim', 'Fort', 'Dombivali', 'Palghar', 'Malad East', 'Vangani',\n",
       "       'Jogeshwari West', 'Dahisar', 'Borivali East', 'Mulund West',\n",
       "       'Kharghar', 'Vasai', 'Santacruz East', 'Ambernath East',\n",
       "       'Andheri West', 'Mazagaon', 'Karjat', 'Khopoli', 'Goregaon East',\n",
       "       'Panvel', 'Kalyan West', 'Andheri East', 'Dronagiri', 'Umroli',\n",
       "       'Virar', 'Kalyan East', 'Thane West', 'Shahapur', 'Taloja', 'Ulwe',\n",
       "       'Badlapur East', 'Titwala', 'Diva', 'Kamothe', 'Bhiwandi',\n",
       "       'Kandivali West', 'Powai', 'Badlapur West',\n",
       "       'kasaradavali thane west', 'Dombivali East', 'Mira Road East',\n",
       "       'Vasai east', 'Wada', 'Dadar East', 'Colaba', 'Sion',\n",
       "       'Santosh Nagar', 'Virar East', 'Agripada', 'Gorai', 'Virar West',\n",
       "       'Santacruz West', 'Kalwa', 'Nala Sopara', 'Hendre Pada',\n",
       "       'Vasai West', 'Mazgaon', 'Belapur', 'Borivali West', 'Nerul',\n",
       "       'Kumbharkhan Pada', 'Ghatkopar West', 'Khadawali', 'Mulund East',\n",
       "       'Kalamboli', 'Karanjade', 'Kanjurmarg', 'Anjurdive', 'Navade',\n",
       "       'Airoli', 'matunga east', 'Vichumbe', 'Goregaon West',\n",
       "       'Bhangarwadi', 'Bandra West', 'Mandvi', 'Kamathipura',\n",
       "       'Nalasopara West', 'Bhayandar West', 'Boisar', 'Dharamveer Nagar',\n",
       "       'Bhayandar East', 'Diva Gaon', 'Parel', 'Sanpada',\n",
       "       'Jogeshwari East', 'Girgaon', 'Belondakhar', 'Koper Khairane',\n",
       "       'Dombivli (West)', 'Taloje', 'Dundare', 'Pale Bk.', 'Thakurli',\n",
       "       'Bhandup West', 'Uttan', 'Seawoods', 'Vikhroli West',\n",
       "       'Kandivali East', 'Sewri', 'Ghatkopar East', 'Kanjurmarg East',\n",
       "       'Kurla West', 'Vevoor', 'Nalasopara East', 'Ville Parle East',\n",
       "       'Mumbai Central', 'Shelu', 'Palava', 'Byculla', 'New Balaji Nagar',\n",
       "       'Dahisar East', 'Vasind', 'Juhu', 'Wadala', 'Dahisar West',\n",
       "       'Ambivli', 'Navapada', 'Kurla East', 'Greater Khanda',\n",
       "       'Ambernath West', 'Dadar West', 'Napeansea Road', 'Vishnu Nagar',\n",
       "       'Nilje Gaon', 'Vikroli East', 'Prabhadevi', 'Khar West',\n",
       "       'Masjid Bandar', 'Beturkar Pada', 'Ghodbander', 'Datiwali Gaon',\n",
       "       'Saphale', 'Bandra East', 'Naigaon West', 'Koproli', 'Shil Phata',\n",
       "       'Cuffe Parade', 'Lower Parel', 'Vashi', 'Deonar', 'Matunga',\n",
       "       'Ranjanpada Uran Panvel Road', 'Shir Gaon', 'Dahanu', 'Ulhasnagar',\n",
       "       'Peddar Road', 'Naigaon East', 'LBS Marg', 'Hiranandani Estates',\n",
       "       'Bhandup East', 'Rabale', 'Atgaon', 'Ghansoli', 'Dighe', 'Worli',\n",
       "       'Kharodi', 'Madanpura', 'Dahisar Navi mumbai', 'Khar', 'Sarde',\n",
       "       'Bandra Kurla Complex', 'Nahur East', 'Usarghar Gaon', 'Kasheli',\n",
       "       'Thane East', 'Bhuleshwar', 'Sector-20 Koparkhairane'],\n",
       "      dtype=object)"
      ]
     },
     "execution_count": 37,
     "metadata": {},
     "output_type": "execute_result"
    }
   ],
   "source": [
    "df['Location'].unique()"
   ]
  },
  {
   "cell_type": "markdown",
   "id": "2c1865dd",
   "metadata": {},
   "source": [
    "* Note-- 1st objective of my project i.e web scraping get completed now to move towards data cleaning and visualization"
   ]
  }
 ],
 "metadata": {
  "kernelspec": {
   "display_name": "Python 3 (ipykernel)",
   "language": "python",
   "name": "python3"
  },
  "language_info": {
   "codemirror_mode": {
    "name": "ipython",
    "version": 3
   },
   "file_extension": ".py",
   "mimetype": "text/x-python",
   "name": "python",
   "nbconvert_exporter": "python",
   "pygments_lexer": "ipython3",
   "version": "3.9.7"
  }
 },
 "nbformat": 4,
 "nbformat_minor": 5
}
